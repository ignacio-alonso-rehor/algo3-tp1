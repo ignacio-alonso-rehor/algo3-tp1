{
 "cells": [
  {
   "cell_type": "markdown",
   "id": "94f148aa",
   "metadata": {},
   "source": [
    "# Correr Experimentos\n",
    "\n",
    "## Includes"
   ]
  },
  {
   "cell_type": "code",
   "execution_count": 1,
   "id": "32e774dd",
   "metadata": {},
   "outputs": [],
   "source": [
    "%load_ext autoreload\n",
    "%autoreload 2\n",
    "\n",
    "import subprocess\n",
    "import numpy as np\n",
    "import pandas as pd\n",
    "from IPython.display import display, clear_output"
   ]
  },
  {
   "cell_type": "code",
   "execution_count": 2,
   "id": "f687a356",
   "metadata": {},
   "outputs": [
    {
     "name": "stdout",
     "output_type": "stream",
     "text": [
      "g++ -c -o ../obj/main.o main.cpp -Wall -Wno-unused-parameter -Wextra -O2 -pedantic -std=c++14 -I../include\n",
      "g++ -c -o ../obj/solver.o solver.cpp -Wall -Wno-unused-parameter -Wextra -O2 -pedantic -std=c++14 -I../include\n",
      "g++ -o jt ../obj/main.o ../obj/solver.o -Wall -Wno-unused-parameter -Wextra -O2 -pedantic -std=c++14 -I../include\n"
     ]
    }
   ],
   "source": [
    "!cd .. && make"
   ]
  },
  {
   "cell_type": "code",
   "execution_count": 3,
   "id": "274b2f61",
   "metadata": {},
   "outputs": [],
   "source": [
    "BIN = \"../jt\"\n",
    "def run(metodo: str, archivo: str) -> float:\n",
    "    completed_process = subprocess.run([BIN, metodo, archivo], capture_output=True)\n",
    "    \n",
    "    completed_process.check_returncode()\n",
    "    return float(completed_process.stderr)"
   ]
  },
  {
   "cell_type": "code",
   "execution_count": 5,
   "id": "dfcd8801",
   "metadata": {},
   "outputs": [],
   "source": [
    "df_fuerza_bruta = pd.read_csv(\"instancias/fuerza-bruta/indice.csv\")\n",
    "df_mejor_caso_bt = pd.read_csv(\"instancias/mejor-caso-bt/indice.csv\")\n",
    "df_peor_caso_bt = pd.read_csv(\"instancias/peor-caso-bt/indice.csv\")\n",
    "df_sin_superposicion = pd.read_csv(\"instancias/sin-superposicion/indice.csv\")\n",
    "df_alta_superposicion = pd.read_csv(\"instancias/alta-superposicion/indice.csv\")\n",
    "df_muchos_productos = pd.read_csv(\"instancias/muchos-productos/indice.csv\")\n",
    "\n",
    "experimentos = []"
   ]
  },
  {
   "cell_type": "markdown",
   "id": "c4af7897",
   "metadata": {},
   "source": [
    "##  Experimento 1: Complejidad de Fuerza bruta"
   ]
  },
  {
   "cell_type": "code",
   "execution_count": 6,
   "id": "163d8fdd",
   "metadata": {},
   "outputs": [],
   "source": [
    "METODO = \"BF\"\n",
    "for _, row in df_fuerza_bruta.iterrows():\n",
    "    experimentos.append({\n",
    "        \"dataset\" : row[\"dataset\"],\n",
    "        \"archivo\" : row[\"filename\"],\n",
    "        \"metodo\"  : METODO,\n",
    "        \"n\"       : row[\"n\"],\n",
    "        \"R\"       : row[\"R\"],\n",
    "    })"
   ]
  },
  {
   "cell_type": "markdown",
   "id": "1bebaabc",
   "metadata": {},
   "source": [
    "## Experimento 2: Complejidad backtracking\n",
    "\n",
    "Mejor y peor caso con ambas podas:"
   ]
  },
  {
   "cell_type": "code",
   "execution_count": 7,
   "id": "3ace26d8",
   "metadata": {},
   "outputs": [],
   "source": [
    "METODO = \"BT\"\n",
    "for _, row in df_mejor_caso_bt.iterrows():\n",
    "    experimentos.append({\n",
    "        \"dataset\" : row[\"dataset\"],\n",
    "        \"archivo\" : row[\"filename\"],\n",
    "        \"metodo\"  : METODO,\n",
    "        \"n\"       : row[\"n\"],\n",
    "        \"R\"       : row[\"R\"],\n",
    "    })\n",
    "\n",
    "for _, row in df_peor_caso_bt.iterrows():\n",
    "    experimentos.append({\n",
    "        \"dataset\" : row[\"dataset\"],\n",
    "        \"archivo\" : row[\"filename\"],\n",
    "        \"metodo\"  : METODO,\n",
    "        \"n\"       : row[\"n\"],\n",
    "        \"R\"       : row[\"R\"],\n",
    "    })"
   ]
  },
  {
   "cell_type": "markdown",
   "id": "41df2a3c",
   "metadata": {},
   "source": [
    "## Experimento 4: Comparación backtracking--programción dinámica"
   ]
  },
  {
   "cell_type": "code",
   "execution_count": 10,
   "id": "af2a2bf2",
   "metadata": {},
   "outputs": [],
   "source": [
    "for _, row in df_sin_superposicion.iterrows():\n",
    "    experimentos.append({\n",
    "        \"dataset\" : row[\"dataset\"],\n",
    "        \"archivo\" : row[\"filename\"],\n",
    "        \"metodo\"  : \"DP\",\n",
    "        \"n\"       : row[\"n\"],\n",
    "        \"R\"       : row[\"R\"],\n",
    "    })\n",
    "    experimentos.append({\n",
    "        \"dataset\" : row[\"dataset\"],\n",
    "        \"archivo\" : row[\"filename\"],\n",
    "        \"metodo\"  : \"BT\",\n",
    "        \"n\"       : row[\"n\"],\n",
    "        \"R\"       : row[\"R\"],\n",
    "    })\n",
    "for _, row in df_alta_superposicion.iterrows():\n",
    "    experimentos.append({\n",
    "        \"dataset\" : row[\"dataset\"],\n",
    "        \"archivo\" : row[\"filename\"],\n",
    "        \"metodo\"  : \"DP\",\n",
    "        \"n\"       : row[\"n\"],\n",
    "        \"R\"       : row[\"R\"],\n",
    "    })\n",
    "    experimentos.append({\n",
    "        \"dataset\" : row[\"dataset\"],\n",
    "        \"archivo\" : row[\"filename\"],\n",
    "        \"metodo\"  : \"BT\",\n",
    "        \"n\"       : row[\"n\"],\n",
    "        \"R\"       : row[\"R\"],\n",
    "    })"
   ]
  },
  {
   "cell_type": "markdown",
   "id": "edab9552",
   "metadata": {},
   "source": [
    "## Experimento 5: Programción dinámica con muchos productos"
   ]
  },
  {
   "cell_type": "code",
   "execution_count": 11,
   "id": "85bfbfe3",
   "metadata": {},
   "outputs": [],
   "source": [
    "METODO = \"DP\"\n",
    "for _, row in df_muchos_productos.iterrows():\n",
    "    experimentos.append({\n",
    "        \"dataset\" : row[\"dataset\"],\n",
    "        \"archivo\" : row[\"filename\"],\n",
    "        \"metodo\"  : METODO,\n",
    "        \"n\"       : row[\"n\"],\n",
    "        \"R\"       : row[\"R\"],\n",
    "    })"
   ]
  },
  {
   "cell_type": "markdown",
   "id": "f2858bd5",
   "metadata": {},
   "source": [
    "## Corremos los experimentos"
   ]
  },
  {
   "cell_type": "code",
   "execution_count": 13,
   "id": "a97a746c",
   "metadata": {},
   "outputs": [
    {
     "data": {
      "text/plain": [
       "'Experimento: 411/411'"
      ]
     },
     "metadata": {},
     "output_type": "display_data"
    }
   ],
   "source": [
    "cols = [\"dataset\", \"n\", \"R\", \"metodo\", \"tiempo\"];\n",
    "res = []\n",
    "numero = 1\n",
    "T = 5\n",
    "\n",
    "for exp in experimentos:\n",
    "    \n",
    "    clear_output(wait=True)\n",
    "    display(f'Experimento: {numero}/{len(experimentos)}')\n",
    "    numero += 1\n",
    "    \n",
    "    tiempos = []\n",
    "    for _ in range(0, T):\n",
    "        tiempos.append(run(exp[\"metodo\"], exp[\"archivo\"]))\n",
    "    tiempo_avg = np.median(tiempos)\n",
    "    \n",
    "    res.append([exp[\"dataset\"], exp[\"n\"], exp[\"R\"], exp[\"metodo\"], tiempo_avg])\n",
    "        \n",
    "df_res = pd.DataFrame(res, columns=cols)\n",
    "df_res.to_csv(\"resultados.csv\", index=False, header=True)"
   ]
  }
 ],
 "metadata": {
  "kernelspec": {
   "display_name": "Python 3",
   "language": "python",
   "name": "python3"
  },
  "language_info": {
   "codemirror_mode": {
    "name": "ipython",
    "version": 3
   },
   "file_extension": ".py",
   "mimetype": "text/x-python",
   "name": "python",
   "nbconvert_exporter": "python",
   "pygments_lexer": "ipython3",
   "version": "3.9.5"
  }
 },
 "nbformat": 4,
 "nbformat_minor": 5
}
