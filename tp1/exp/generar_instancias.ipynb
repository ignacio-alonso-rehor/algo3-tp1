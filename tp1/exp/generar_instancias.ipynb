{
 "cells": [
  {
   "cell_type": "markdown",
   "id": "c7f92e96",
   "metadata": {},
   "source": [
    "# Generar datasets"
   ]
  },
  {
   "cell_type": "markdown",
   "id": "d408d417",
   "metadata": {},
   "source": [
    "Generar archivos de entrada para los distintos experimentos"
   ]
  },
  {
   "cell_type": "code",
   "execution_count": 1,
   "id": "726177c0",
   "metadata": {},
   "outputs": [],
   "source": [
    "%load_ext autoreload\n",
    "%autoreload 2\n",
    "\n",
    "import os\n",
    "import math\n",
    "import pandas as pd\n",
    "from typing import List, Tuple"
   ]
  },
  {
   "cell_type": "code",
   "execution_count": 2,
   "id": "5054f59b",
   "metadata": {},
   "outputs": [],
   "source": [
    "def write_instance(S: List[Tuple[int,int]], R: int, dataset: str, instancia: str) :\n",
    "    dir_path = os.path.join(\"instancias\",dataset)\n",
    "    \n",
    "    try:\n",
    "        os.makedirs(dir_path) \n",
    "    except OSError as error:\n",
    "        pass\n",
    "        #print(error)\n",
    "        \n",
    "    with open(f\"instancias/{dataset}/{instancia}.txt\", 'w') as f:\n",
    "        print(f\"{len(S)} {R}\", file=f)\n",
    "        for t in S:\n",
    "            print(f\"{t[0]} {t[1]}\", file=f)"
   ]
  },
  {
   "cell_type": "code",
   "execution_count": 3,
   "id": "0b99cb1a",
   "metadata": {},
   "outputs": [],
   "source": [
    "cols = [\"dataset\", \"instancia\", \"n\", \"R\", \"filename\"]"
   ]
  },
  {
   "cell_type": "markdown",
   "id": "e78e76ad",
   "metadata": {},
   "source": [
    "## - Dataset 1: Fuerza Bruta\n",
    "\n",
    "Dado que nuestro algoritmo de fuerza bruta chequea si la solución es válida o no cuando este termina de recorrer la lista de productos, el único factor que determina su tiempo de ejecución es la cantidad de productos. Por este motivo, no hace falta separar entre mejor y peor caso del algoritmo, ni complejizar las elecciones del peso y resistencia de los productos ($w_{i}$ y $r_{i}$)."
   ]
  },
  {
   "cell_type": "code",
   "execution_count": 4,
   "id": "8526f015",
   "metadata": {},
   "outputs": [],
   "source": [
    "rows = []\n",
    "dataset = \"fuerza-bruta\"\n",
    "\n",
    "for n in range(1, 31):\n",
    "    R = n\n",
    "    S = [(1, n) for _ in range(n)]\n",
    "    write_instance(S, R, dataset, f\"BF-{n}\")\n",
    "    rows.append([dataset, f\"BF-{n}\", n, R, f\"instancias/{dataset}/BF-{n}.txt\"])\n",
    "pd.DataFrame(rows, columns=cols).to_csv(f\"instancias/{dataset}/indice.csv\", index=False, header=True)"
   ]
  },
  {
   "cell_type": "markdown",
   "id": "6c0de504",
   "metadata": {},
   "source": [
    "## - Dataset 2: Backtracking (mejor caso)\n",
    "Sea $R$ la resistencia del tubo, el mejor caso es cuando no se puede agregar ningún producto. En ese caso la cantidad de nodos que se computan es $\\mathcal{O}(n)$.\n",
    "\n",
    "$S = \\big\\{(R+1, r_{1}), \\cdots, (R+1, r_{n})\\big\\}$"
   ]
  },
  {
   "cell_type": "code",
   "execution_count": 5,
   "id": "860f7ea2",
   "metadata": {},
   "outputs": [],
   "source": [
    "rows = []\n",
    "R = 100\n",
    "dataset = \"mejor-caso-bt\"\n",
    "for i in range (1, 101):\n",
    "    S = [(R+1, R) for _ in range(i)]\n",
    "    write_instance(S, R, dataset, f\"BT-MC-{i}\")\n",
    "    rows.append([dataset, f\"BT-MC-{i}\", i, R, f\"instancias/{dataset}/BT-MC-{i}.txt\"])\n",
    "pd.DataFrame(rows, columns=cols).to_csv(f\"instancias/{dataset}/indice.csv\", index=False, header=True)"
   ]
  },
  {
   "cell_type": "markdown",
   "id": "88312934",
   "metadata": {},
   "source": [
    "## - Dataset 3: Backtracking (peor caso)\n",
    "\n",
    "El peor caso del algoritmo de backtracking sucede cuando todos los productos de la instancia pertenecen a una solucion válida simultaneamente (i.e. se pueden meter todos en el tubo sin romperlo, ni a si mismo)"
   ]
  },
  {
   "cell_type": "code",
   "execution_count": 6,
   "id": "0c375246",
   "metadata": {},
   "outputs": [],
   "source": [
    "rows = []\n",
    "R = 1000\n",
    "dataset= \"peor-caso-bt\"\n",
    "for i in range (1, 31):\n",
    "    S = [(1, R) for _ in range(i)]\n",
    "    write_instance(S, R, dataset, f\"BT-PC-{i}\")\n",
    "    rows.append([dataset, f\"BT-PC-{i}\", i, R, f\"instancias/{dataset}/BT-PC-{i}.txt\"])\n",
    "pd.DataFrame(rows, columns=cols).to_csv(f\"instancias/{dataset}/indice.csv\", index=False, header=True)"
   ]
  },
  {
   "cell_type": "markdown",
   "id": "692aed77",
   "metadata": {},
   "source": [
    "## - Datset 4: Sin superposición\n",
    "Las ventajas de un algoritmo de programación dinámica suelen exhibirse más claramente cuando una gran proporción de los resultados de los llamados a dicho algoritmo ya han sido precomputados. Por ende, uno esperaría que el peor caso se presente cuando este es exáctamente opuesto (i.e. que nunca se llame al algoritmo con las mismos parámetros)."
   ]
  },
  {
   "cell_type": "code",
   "execution_count": 7,
   "id": "3ef5aea4",
   "metadata": {},
   "outputs": [],
   "source": [
    "max_size = 20"
   ]
  },
  {
   "cell_type": "code",
   "execution_count": 8,
   "id": "a9a1d324",
   "metadata": {},
   "outputs": [],
   "source": [
    "rows = []\n",
    "dataset = \"sin-superposicion\"\n",
    "for n in range (1, max_size + 1):\n",
    "    R = 2**n - 1\n",
    "    S = [(2**i, R) for i in range (n)]\n",
    "    write_instance(S, R, dataset, f\"LD-{n}\")\n",
    "    rows.append([dataset, f\"LD-{n}\", n, R, f\"instancias/{dataset}/LD-{n}.txt\"])\n",
    "pd.DataFrame(rows, columns=cols).to_csv(f\"instancias/{dataset}/indice.csv\", index=False, header=True)"
   ]
  },
  {
   "cell_type": "markdown",
   "id": "e0740f28",
   "metadata": {},
   "source": [
    "## - Dataset 5: Alta superposición"
   ]
  },
  {
   "cell_type": "code",
   "execution_count": 9,
   "id": "0e76f1d3",
   "metadata": {
    "scrolled": true
   },
   "outputs": [],
   "source": [
    "rows = []\n",
    "dataset = \"alta-superposicion\"\n",
    "for n in range(1, max_size +1):\n",
    "    R = max(1, math.floor(n*(n+1)/4))\n",
    "    S = [(i, R) for i in range(1, n + 1)]\n",
    "    write_instance(S, R, dataset, f\"HD-{n}\")\n",
    "    rows.append([dataset, f\"HD-{n}\", n, R, f\"instancias/{dataset}/HD-{n}.txt\"])\n",
    "pd.DataFrame(rows, columns=cols).to_csv(f\"instancias/{dataset}/indice.csv\", index=False, header=True)"
   ]
  },
  {
   "cell_type": "markdown",
   "id": "aa17b252",
   "metadata": {},
   "source": [
    "## Dataset 6: Muchos productos"
   ]
  },
  {
   "cell_type": "code",
   "execution_count": 17,
   "id": "3bac6fa9",
   "metadata": {},
   "outputs": [],
   "source": [
    "rows = []\n",
    "dataset = \"muchos-productos\"\n",
    "for n in range(100, 1001, 10):\n",
    "    R = max(1, math.floor(n*(n+1)/4))\n",
    "    S = [(i, R) for i in range(1, n+1)]\n",
    "    write_instance(S, R, dataset, f\"MP-{n}\")\n",
    "    rows.append([dataset, f\"MP-{n}\", n, R, f\"instancias/{dataset}/MP-{n}.txt\"])\n",
    "pd.DataFrame(rows, columns=cols).to_csv(f\"instancias/{dataset}/indice.csv\", index=False, header=True)   "
   ]
  }
 ],
 "metadata": {
  "kernelspec": {
   "display_name": "Python 3",
   "language": "python",
   "name": "python3"
  },
  "language_info": {
   "codemirror_mode": {
    "name": "ipython",
    "version": 3
   },
   "file_extension": ".py",
   "mimetype": "text/x-python",
   "name": "python",
   "nbconvert_exporter": "python",
   "pygments_lexer": "ipython3",
   "version": "3.9.5"
  }
 },
 "nbformat": 4,
 "nbformat_minor": 5
}
